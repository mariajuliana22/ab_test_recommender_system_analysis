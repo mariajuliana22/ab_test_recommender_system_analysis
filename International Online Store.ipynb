{
 "cells": [
  {
   "cell_type": "markdown",
   "id": "e6a0c171",
   "metadata": {},
   "source": [
    "# Tienda en línea internacional / International Online Store  \n",
    "Mis predecesores lanzaron una prueba A/B y luego abandonaron (para iniciar una granja de sandías en Brasil). Solo dejaron las especificaciones técnicas y los resultados de las pruebas. / My predecessors launched an A/B test and then abandoned it (to start a watermelon farm in Brazil). They only left the technical specifications and test results behind.\n",
    "\n",
    "**Descripción técnica: / Technical Description:**  \n",
    "- Nombre de la prueba: recommender_system_test / Test name: `recommender_system_test`  \n",
    "- Grupos: А (control), B (nuevo embudo de pago) / Groups: A (control), B (new payment funnel)\n",
    "- Fecha de lanzamiento: 2020-12-07 / Launch date: 2020-12-07\n",
    "- Fecha en la que dejaron de aceptar nuevos usuarios: 2020-12-21 / Date when new users were no longer accepted: 2020-12-21. \n",
    "- Fecha de finalización: 2021-01-01 / End date: 2021-01-01  \n",
    "- Audiencia: 15% de los nuevos usuarios de la región de la UE / Audience: 15% of new users from the EU region  \n",
    "- Propósito de la prueba: probar cambios relacionados con la introducción de un sistema de recomendaciones mejorado / Test purpose: To assess changes associated with the introduction of an improved recommendation system.\n",
    "- Resultado esperado: dentro de los 14 días posteriores a la inscripción, los usuarios mostrarán una mejor conversión en vistas de la página del producto (el evento `product_page`), instancias de agregar artículos al carrito de compras (`product_cart`) y compras (`purchase`). En cada etapa del embudo `product_page` → `product_cart` → `purchase`, habrá al menos un 10% de aumento. / Expected outcome: Within 14 days of registration, users will demonstrate better conversion rates for product page views (`product_page`), instances of adding items to the shopping cart (`product_cart`), and purchases (`purchase`). At each stage of the funnel (`product_page` → `product_cart` → `purchase`), there should be at least a 10% increase. \n",
    "- Número previsto de participantes de la prueba: 6 000 / Estimated number of test participants: 6,000 \n",
    "\n",
    "**Descirpción de los datos: / Data Description:**  \n",
    "\n",
    "Estructura ab_project__marketing_events_us.csv: / Structure of `ab_project__marketing_events_us.csv`:\n",
    "- `name` — el nombre del evento de marketing / marketing event name\n",
    "- `regions` — regiones donde se llevará a cabo la campaña publicitaria / regions where the advertising campaign will run.\n",
    "- `start_d` — fecha de inicio de la campaña / campaign start date \n",
    "- `finish_dt` — fecha de finalización de la campaña / campaign end date\n",
    "\n",
    "Estructura final_ab_new_users_upd_us.csv: / Structure of `final_ab_new_users_upd_us.csv`:\n",
    "- `user_id`\n",
    "- `first_date` — fecha de inscripción / registration date \n",
    "- `region`\n",
    "- `device` — dispositivo utilizado para la inscripción / device used for registration\n",
    "\n",
    "Estructura final_ab_events_upd_us.csv: / Structure of `final_ab_events_upd_us.csv`:\n",
    "- `user_id`\n",
    "- `event_dt` — fecha y hora del evento / event date and time\n",
    "- `event_name` — nombre del tipo de evento / type of event \n",
    "- `details` — datos adicionales sobre el evento (por ejemplo, el pedido total en USD para los eventos purchase) / additional event data (e.g., total order value in USD for `purchase` events).\n",
    "\n",
    "Estructura final_ab_participants_upd_us.csv: / Structure of `final_ab_participants_upd_us.csv`:\n",
    "- `user_id`\n",
    "- `ab_test` — nombre de la prueba / test name \n",
    "- `group` — el grupo de prueba al que pertenecía el usuario / test group to which the user belonged\n",
    "\n",
    "**Partes del proyecto: / Project Components:**  \n",
    "1. Describir los objetivos del estudio / Define the study objectives\n",
    "2. Explora los datos / Explore the data\n",
    "3. Análisis exploratorio de datos / Perform exploratory data analysis\n",
    "4. Evaluar los resultados de la prueba A/B / Evaluate the A/B test results\n",
    "5. Conclusiones y resultados / Conclusions and findings"
   ]
  },
  {
   "cell_type": "markdown",
   "id": "95d4418f",
   "metadata": {},
   "source": [
    "## Objetivos del estudio / Study Objectives  \n",
    "El objetivo de este estudio es evaluar los resultados de una prueba A/B lanzada para probar un sistema de recomendaciones mejorado en una tienda en línea internacional. La prueba A/B tiene como fin comparar dos grupos de usuarios (grupo A como control y grupo B con el nuevo sistema de recomendaciones) para observar si el sistema mejorado incrementa la conversión de los usuarios en el embudo de compra. / The goal of this study is to evaluate the results of an A/B test conducted to assess the impact of an improved recommendation system in an international online store. The A/B test aims to compare two user groups (Group A as the control and Group B using the new recommendation system) to determine whether the enhanced system increases user conversion within the purchase funnel.  \n",
    "\n",
    "El análisis se centrará en tres eventos clave dentro del embudo de conversión: / The analysis will focus on three key events in the conversion funnel:  \n",
    "- `product_page`: Visitas a las páginas de los productos / Visits to product pages\n",
    "- `product_cart`: Productos agregados al carrito / Products added to the cart\n",
    "- `purchase`: Compras efectivas / Completed purchases\n",
    "\n",
    "Se espera que los usuarios en el grupo B (nuevo embudo de pago) muestren un aumento de al menos un 10% en la conversión en cada una de estas etapas, en comparación con el grupo A (control). / It is expected that users in Group B (new payment funnel) will show at least a 10% increase in conversion rates at each stage of the funnel compared to Group A (control).  \n"
   ]
  },
  {
   "cell_type": "markdown",
   "id": "58d5e146",
   "metadata": {},
   "source": [
    "## Explorar los datos / Data Exploration"
   ]
  },
  {
   "cell_type": "code",
   "execution_count": 1,
   "id": "49a55c0c",
   "metadata": {},
   "outputs": [],
   "source": [
    "# Importar librerias necesarias\n",
    "# Import Necessary Libraries  \n",
    "import pandas as pd\n",
    "import datetime as dt\n",
    "import matplotlib.pyplot as plt\n",
    "import math as mth\n",
    "from scipy import stats as st\n",
    "import numpy as np "
   ]
  },
  {
   "cell_type": "code",
   "execution_count": 2,
   "id": "62955d25",
   "metadata": {},
   "outputs": [],
   "source": [
    "# Acceder a los datasets \n",
    "# Access the datasets  \n",
    "\n",
    "calendar = pd.read_csv('/datasets/ab_project_marketing_events_us.csv')\n",
    "\n",
    "users = pd.read_csv('/datasets/final_ab_new_users_upd_us.csv')\n",
    "\n",
    "events = pd.read_csv('/datasets/final_ab_events_upd_us.csv')\n",
    "\n",
    "participants = pd.read_csv('/datasets/final_ab_participants_upd_us.csv')"
   ]
  },
  {
   "cell_type": "markdown",
   "id": "2960d0fd",
   "metadata": {},
   "source": [
    "### `Calendar`\n",
    "Calendario de eventos de marketing para 2020 / 2020 Marketing Events Calendar  "
   ]
  },
  {
   "cell_type": "code",
   "execution_count": 3,
   "id": "ef235a73",
   "metadata": {},
   "outputs": [
    {
     "data": {
      "text/html": [
       "<div>\n",
       "<style scoped>\n",
       "    .dataframe tbody tr th:only-of-type {\n",
       "        vertical-align: middle;\n",
       "    }\n",
       "\n",
       "    .dataframe tbody tr th {\n",
       "        vertical-align: top;\n",
       "    }\n",
       "\n",
       "    .dataframe thead th {\n",
       "        text-align: right;\n",
       "    }\n",
       "</style>\n",
       "<table border=\"1\" class=\"dataframe\">\n",
       "  <thead>\n",
       "    <tr style=\"text-align: right;\">\n",
       "      <th></th>\n",
       "      <th>name</th>\n",
       "      <th>regions</th>\n",
       "      <th>start_dt</th>\n",
       "      <th>finish_dt</th>\n",
       "    </tr>\n",
       "  </thead>\n",
       "  <tbody>\n",
       "    <tr>\n",
       "      <th>0</th>\n",
       "      <td>Christmas&amp;New Year Promo</td>\n",
       "      <td>EU, N.America</td>\n",
       "      <td>2020-12-25</td>\n",
       "      <td>2021-01-03</td>\n",
       "    </tr>\n",
       "    <tr>\n",
       "      <th>1</th>\n",
       "      <td>St. Valentine's Day Giveaway</td>\n",
       "      <td>EU, CIS, APAC, N.America</td>\n",
       "      <td>2020-02-14</td>\n",
       "      <td>2020-02-16</td>\n",
       "    </tr>\n",
       "    <tr>\n",
       "      <th>2</th>\n",
       "      <td>St. Patric's Day Promo</td>\n",
       "      <td>EU, N.America</td>\n",
       "      <td>2020-03-17</td>\n",
       "      <td>2020-03-19</td>\n",
       "    </tr>\n",
       "    <tr>\n",
       "      <th>3</th>\n",
       "      <td>Easter Promo</td>\n",
       "      <td>EU, CIS, APAC, N.America</td>\n",
       "      <td>2020-04-12</td>\n",
       "      <td>2020-04-19</td>\n",
       "    </tr>\n",
       "    <tr>\n",
       "      <th>4</th>\n",
       "      <td>4th of July Promo</td>\n",
       "      <td>N.America</td>\n",
       "      <td>2020-07-04</td>\n",
       "      <td>2020-07-11</td>\n",
       "    </tr>\n",
       "    <tr>\n",
       "      <th>5</th>\n",
       "      <td>Black Friday Ads Campaign</td>\n",
       "      <td>EU, CIS, APAC, N.America</td>\n",
       "      <td>2020-11-26</td>\n",
       "      <td>2020-12-01</td>\n",
       "    </tr>\n",
       "    <tr>\n",
       "      <th>6</th>\n",
       "      <td>Chinese New Year Promo</td>\n",
       "      <td>APAC</td>\n",
       "      <td>2020-01-25</td>\n",
       "      <td>2020-02-07</td>\n",
       "    </tr>\n",
       "    <tr>\n",
       "      <th>7</th>\n",
       "      <td>Labor day (May 1st) Ads Campaign</td>\n",
       "      <td>EU, CIS, APAC</td>\n",
       "      <td>2020-05-01</td>\n",
       "      <td>2020-05-03</td>\n",
       "    </tr>\n",
       "    <tr>\n",
       "      <th>8</th>\n",
       "      <td>International Women's Day Promo</td>\n",
       "      <td>EU, CIS, APAC</td>\n",
       "      <td>2020-03-08</td>\n",
       "      <td>2020-03-10</td>\n",
       "    </tr>\n",
       "    <tr>\n",
       "      <th>9</th>\n",
       "      <td>Victory Day CIS (May 9th) Event</td>\n",
       "      <td>CIS</td>\n",
       "      <td>2020-05-09</td>\n",
       "      <td>2020-05-11</td>\n",
       "    </tr>\n",
       "    <tr>\n",
       "      <th>10</th>\n",
       "      <td>CIS New Year Gift Lottery</td>\n",
       "      <td>CIS</td>\n",
       "      <td>2020-12-30</td>\n",
       "      <td>2021-01-07</td>\n",
       "    </tr>\n",
       "    <tr>\n",
       "      <th>11</th>\n",
       "      <td>Dragon Boat Festival Giveaway</td>\n",
       "      <td>APAC</td>\n",
       "      <td>2020-06-25</td>\n",
       "      <td>2020-07-01</td>\n",
       "    </tr>\n",
       "    <tr>\n",
       "      <th>12</th>\n",
       "      <td>Single's Day Gift Promo</td>\n",
       "      <td>APAC</td>\n",
       "      <td>2020-11-11</td>\n",
       "      <td>2020-11-12</td>\n",
       "    </tr>\n",
       "    <tr>\n",
       "      <th>13</th>\n",
       "      <td>Chinese Moon Festival</td>\n",
       "      <td>APAC</td>\n",
       "      <td>2020-10-01</td>\n",
       "      <td>2020-10-07</td>\n",
       "    </tr>\n",
       "  </tbody>\n",
       "</table>\n",
       "</div>"
      ],
      "text/plain": [
       "                                name                   regions    start_dt  \\\n",
       "0           Christmas&New Year Promo             EU, N.America  2020-12-25   \n",
       "1       St. Valentine's Day Giveaway  EU, CIS, APAC, N.America  2020-02-14   \n",
       "2             St. Patric's Day Promo             EU, N.America  2020-03-17   \n",
       "3                       Easter Promo  EU, CIS, APAC, N.America  2020-04-12   \n",
       "4                  4th of July Promo                 N.America  2020-07-04   \n",
       "5          Black Friday Ads Campaign  EU, CIS, APAC, N.America  2020-11-26   \n",
       "6             Chinese New Year Promo                      APAC  2020-01-25   \n",
       "7   Labor day (May 1st) Ads Campaign             EU, CIS, APAC  2020-05-01   \n",
       "8    International Women's Day Promo             EU, CIS, APAC  2020-03-08   \n",
       "9    Victory Day CIS (May 9th) Event                       CIS  2020-05-09   \n",
       "10         CIS New Year Gift Lottery                       CIS  2020-12-30   \n",
       "11     Dragon Boat Festival Giveaway                      APAC  2020-06-25   \n",
       "12           Single's Day Gift Promo                      APAC  2020-11-11   \n",
       "13             Chinese Moon Festival                      APAC  2020-10-01   \n",
       "\n",
       "     finish_dt  \n",
       "0   2021-01-03  \n",
       "1   2020-02-16  \n",
       "2   2020-03-19  \n",
       "3   2020-04-19  \n",
       "4   2020-07-11  \n",
       "5   2020-12-01  \n",
       "6   2020-02-07  \n",
       "7   2020-05-03  \n",
       "8   2020-03-10  \n",
       "9   2020-05-11  \n",
       "10  2021-01-07  \n",
       "11  2020-07-01  \n",
       "12  2020-11-12  \n",
       "13  2020-10-07  "
      ]
     },
     "execution_count": 3,
     "metadata": {},
     "output_type": "execute_result"
    }
   ],
   "source": [
    "# Mostrar los datos\n",
    "# Show Data  \n",
    "calendar"
   ]
  },
  {
   "cell_type": "code",
   "execution_count": 4,
   "id": "638c40b0",
   "metadata": {},
   "outputs": [
    {
     "name": "stdout",
     "output_type": "stream",
     "text": [
      "<class 'pandas.core.frame.DataFrame'>\n",
      "RangeIndex: 14 entries, 0 to 13\n",
      "Data columns (total 4 columns):\n",
      " #   Column     Non-Null Count  Dtype \n",
      "---  ------     --------------  ----- \n",
      " 0   name       14 non-null     object\n",
      " 1   regions    14 non-null     object\n",
      " 2   start_dt   14 non-null     object\n",
      " 3   finish_dt  14 non-null     object\n",
      "dtypes: object(4)\n",
      "memory usage: 576.0+ bytes\n"
     ]
    }
   ],
   "source": [
    "# Información general \n",
    "# General Information  \n",
    "calendar.info()"
   ]
  },
  {
   "cell_type": "code",
   "execution_count": 5,
   "id": "5178a6f0",
   "metadata": {},
   "outputs": [],
   "source": [
    "# Cambiar el tipo de datos de `start_dt` y `finish_dt` \n",
    "# Change data type of `start_dt` and `finish_dt`  \n",
    "calendar['start_dt'] = pd.to_datetime(calendar['start_dt'], format = '%Y-%m-%d')\n",
    "calendar['finish_dt'] = pd.to_datetime(calendar['finish_dt'], format = '%Y-%m-%d')"
   ]
  },
  {
   "cell_type": "code",
   "execution_count": 6,
   "id": "ebe414f6",
   "metadata": {},
   "outputs": [
    {
     "data": {
      "text/plain": [
       "name         0\n",
       "regions      0\n",
       "start_dt     0\n",
       "finish_dt    0\n",
       "dtype: int64"
      ]
     },
     "execution_count": 6,
     "metadata": {},
     "output_type": "execute_result"
    }
   ],
   "source": [
    "# Verificar si hay valores ausentes\n",
    "# Check for missing values  \n",
    "calendar.isna().sum()"
   ]
  },
  {
   "cell_type": "code",
   "execution_count": 7,
   "id": "8308e035",
   "metadata": {},
   "outputs": [
    {
     "data": {
      "text/plain": [
       "0"
      ]
     },
     "execution_count": 7,
     "metadata": {},
     "output_type": "execute_result"
    }
   ],
   "source": [
    "# Verificar si hay valores duplicados\n",
    "# Check for duplicated values\n",
    "calendar.duplicated().sum()"
   ]
  },
  {
   "cell_type": "markdown",
   "id": "505c9b7b",
   "metadata": {},
   "source": [
    "No hay valores ausentes ni duplicados en el dataset `calendar`. / There are no missing or duplicated values in the `calendar` dataset."
   ]
  },
  {
   "cell_type": "markdown",
   "id": "13e3203e",
   "metadata": {},
   "source": [
    "### `Users`\n",
    "Todos los usuarios que se registraron en la tienda en línea  del 7-21 de diciembre de 2020. / All users who registered on the online store from December 7 to December 21, 2020."
   ]
  },
  {
   "cell_type": "code",
   "execution_count": 8,
   "id": "ccc55d77",
   "metadata": {},
   "outputs": [
    {
     "data": {
      "text/html": [
       "<div>\n",
       "<style scoped>\n",
       "    .dataframe tbody tr th:only-of-type {\n",
       "        vertical-align: middle;\n",
       "    }\n",
       "\n",
       "    .dataframe tbody tr th {\n",
       "        vertical-align: top;\n",
       "    }\n",
       "\n",
       "    .dataframe thead th {\n",
       "        text-align: right;\n",
       "    }\n",
       "</style>\n",
       "<table border=\"1\" class=\"dataframe\">\n",
       "  <thead>\n",
       "    <tr style=\"text-align: right;\">\n",
       "      <th></th>\n",
       "      <th>user_id</th>\n",
       "      <th>first_date</th>\n",
       "      <th>region</th>\n",
       "      <th>device</th>\n",
       "    </tr>\n",
       "  </thead>\n",
       "  <tbody>\n",
       "    <tr>\n",
       "      <th>0</th>\n",
       "      <td>D72A72121175D8BE</td>\n",
       "      <td>2020-12-07</td>\n",
       "      <td>EU</td>\n",
       "      <td>PC</td>\n",
       "    </tr>\n",
       "    <tr>\n",
       "      <th>1</th>\n",
       "      <td>F1C668619DFE6E65</td>\n",
       "      <td>2020-12-07</td>\n",
       "      <td>N.America</td>\n",
       "      <td>Android</td>\n",
       "    </tr>\n",
       "    <tr>\n",
       "      <th>2</th>\n",
       "      <td>2E1BF1D4C37EA01F</td>\n",
       "      <td>2020-12-07</td>\n",
       "      <td>EU</td>\n",
       "      <td>PC</td>\n",
       "    </tr>\n",
       "    <tr>\n",
       "      <th>3</th>\n",
       "      <td>50734A22C0C63768</td>\n",
       "      <td>2020-12-07</td>\n",
       "      <td>EU</td>\n",
       "      <td>iPhone</td>\n",
       "    </tr>\n",
       "    <tr>\n",
       "      <th>4</th>\n",
       "      <td>E1BDDCE0DAFA2679</td>\n",
       "      <td>2020-12-07</td>\n",
       "      <td>N.America</td>\n",
       "      <td>iPhone</td>\n",
       "    </tr>\n",
       "  </tbody>\n",
       "</table>\n",
       "</div>"
      ],
      "text/plain": [
       "            user_id  first_date     region   device\n",
       "0  D72A72121175D8BE  2020-12-07         EU       PC\n",
       "1  F1C668619DFE6E65  2020-12-07  N.America  Android\n",
       "2  2E1BF1D4C37EA01F  2020-12-07         EU       PC\n",
       "3  50734A22C0C63768  2020-12-07         EU   iPhone\n",
       "4  E1BDDCE0DAFA2679  2020-12-07  N.America   iPhone"
      ]
     },
     "execution_count": 8,
     "metadata": {},
     "output_type": "execute_result"
    }
   ],
   "source": [
    "# Muestra de los datos \n",
    "# Show data\n",
    "users.head()"
   ]
  },
  {
   "cell_type": "code",
   "execution_count": 9,
   "id": "af65b0aa",
   "metadata": {},
   "outputs": [
    {
     "name": "stdout",
     "output_type": "stream",
     "text": [
      "<class 'pandas.core.frame.DataFrame'>\n",
      "RangeIndex: 58703 entries, 0 to 58702\n",
      "Data columns (total 4 columns):\n",
      " #   Column      Non-Null Count  Dtype \n",
      "---  ------      --------------  ----- \n",
      " 0   user_id     58703 non-null  object\n",
      " 1   first_date  58703 non-null  object\n",
      " 2   region      58703 non-null  object\n",
      " 3   device      58703 non-null  object\n",
      "dtypes: object(4)\n",
      "memory usage: 1.8+ MB\n"
     ]
    }
   ],
   "source": [
    "# Información general\n",
    "# General information\n",
    "users.info()"
   ]
  },
  {
   "cell_type": "code",
   "execution_count": 10,
   "id": "381049ac",
   "metadata": {},
   "outputs": [],
   "source": [
    "# Cambiar el tipo de datos de `first_date` \n",
    "# Change the data type of `first_date`\n",
    "users['first_date'] = pd.to_datetime(users['first_date'], format = '%Y-%m-%d')"
   ]
  },
  {
   "cell_type": "code",
   "execution_count": 11,
   "id": "4b335121",
   "metadata": {},
   "outputs": [
    {
     "data": {
      "text/plain": [
       "user_id       0\n",
       "first_date    0\n",
       "region        0\n",
       "device        0\n",
       "dtype: int64"
      ]
     },
     "execution_count": 11,
     "metadata": {},
     "output_type": "execute_result"
    }
   ],
   "source": [
    "# Verificar si hay valores ausentes\n",
    "# Check for missing values\n",
    "users.isna().sum()"
   ]
  },
  {
   "cell_type": "code",
   "execution_count": 12,
   "id": "2a3c60fb",
   "metadata": {},
   "outputs": [
    {
     "data": {
      "text/plain": [
       "0"
      ]
     },
     "execution_count": 12,
     "metadata": {},
     "output_type": "execute_result"
    }
   ],
   "source": [
    "# Verificar si hay valores duplicados\n",
    "# Check for duplicated values\n",
    "users.duplicated().sum()"
   ]
  },
  {
   "cell_type": "markdown",
   "id": "ac3c17d3",
   "metadata": {},
   "source": [
    "No hay valores ausentes ni duplicados en el dataset `users`. / There are no missing or duplicated values in the `users` dataset."
   ]
  },
  {
   "cell_type": "markdown",
   "id": "5440e924",
   "metadata": {},
   "source": [
    "### `Events`\n",
    "Todos los eventos de los nuevos usuarios en el período comprendido entre el 7 de diciembre de 2020 y el 1 de enero de 2021. / All events of new users between December 7, 2020, and January 1, 2021."
   ]
  },
  {
   "cell_type": "code",
   "execution_count": 13,
   "id": "22fcd41f",
   "metadata": {},
   "outputs": [
    {
     "data": {
      "text/html": [
       "<div>\n",
       "<style scoped>\n",
       "    .dataframe tbody tr th:only-of-type {\n",
       "        vertical-align: middle;\n",
       "    }\n",
       "\n",
       "    .dataframe tbody tr th {\n",
       "        vertical-align: top;\n",
       "    }\n",
       "\n",
       "    .dataframe thead th {\n",
       "        text-align: right;\n",
       "    }\n",
       "</style>\n",
       "<table border=\"1\" class=\"dataframe\">\n",
       "  <thead>\n",
       "    <tr style=\"text-align: right;\">\n",
       "      <th></th>\n",
       "      <th>user_id</th>\n",
       "      <th>event_dt</th>\n",
       "      <th>event_name</th>\n",
       "      <th>details</th>\n",
       "    </tr>\n",
       "  </thead>\n",
       "  <tbody>\n",
       "    <tr>\n",
       "      <th>0</th>\n",
       "      <td>E1BDDCE0DAFA2679</td>\n",
       "      <td>2020-12-07 20:22:03</td>\n",
       "      <td>purchase</td>\n",
       "      <td>99.99</td>\n",
       "    </tr>\n",
       "    <tr>\n",
       "      <th>1</th>\n",
       "      <td>7B6452F081F49504</td>\n",
       "      <td>2020-12-07 09:22:53</td>\n",
       "      <td>purchase</td>\n",
       "      <td>9.99</td>\n",
       "    </tr>\n",
       "    <tr>\n",
       "      <th>2</th>\n",
       "      <td>9CD9F34546DF254C</td>\n",
       "      <td>2020-12-07 12:59:29</td>\n",
       "      <td>purchase</td>\n",
       "      <td>4.99</td>\n",
       "    </tr>\n",
       "    <tr>\n",
       "      <th>3</th>\n",
       "      <td>96F27A054B191457</td>\n",
       "      <td>2020-12-07 04:02:40</td>\n",
       "      <td>purchase</td>\n",
       "      <td>4.99</td>\n",
       "    </tr>\n",
       "    <tr>\n",
       "      <th>4</th>\n",
       "      <td>1FD7660FDF94CA1F</td>\n",
       "      <td>2020-12-07 10:15:09</td>\n",
       "      <td>purchase</td>\n",
       "      <td>4.99</td>\n",
       "    </tr>\n",
       "  </tbody>\n",
       "</table>\n",
       "</div>"
      ],
      "text/plain": [
       "            user_id             event_dt event_name  details\n",
       "0  E1BDDCE0DAFA2679  2020-12-07 20:22:03   purchase    99.99\n",
       "1  7B6452F081F49504  2020-12-07 09:22:53   purchase     9.99\n",
       "2  9CD9F34546DF254C  2020-12-07 12:59:29   purchase     4.99\n",
       "3  96F27A054B191457  2020-12-07 04:02:40   purchase     4.99\n",
       "4  1FD7660FDF94CA1F  2020-12-07 10:15:09   purchase     4.99"
      ]
     },
     "execution_count": 13,
     "metadata": {},
     "output_type": "execute_result"
    }
   ],
   "source": [
    "# Muestra de los datos / Show data\n",
    "events.head()"
   ]
  },
  {
   "cell_type": "code",
   "execution_count": 14,
   "id": "fd160111",
   "metadata": {},
   "outputs": [
    {
     "name": "stdout",
     "output_type": "stream",
     "text": [
      "<class 'pandas.core.frame.DataFrame'>\n",
      "RangeIndex: 423761 entries, 0 to 423760\n",
      "Data columns (total 4 columns):\n",
      " #   Column      Non-Null Count   Dtype  \n",
      "---  ------      --------------   -----  \n",
      " 0   user_id     423761 non-null  object \n",
      " 1   event_dt    423761 non-null  object \n",
      " 2   event_name  423761 non-null  object \n",
      " 3   details     60314 non-null   float64\n",
      "dtypes: float64(1), object(3)\n",
      "memory usage: 12.9+ MB\n"
     ]
    }
   ],
   "source": [
    "# Información general / General information\n",
    "events.info()"
   ]
  },
  {
   "cell_type": "code",
   "execution_count": 15,
   "id": "3ed452f4",
   "metadata": {},
   "outputs": [],
   "source": [
    "# Cambiar el tipo de datos de `first_date` \n",
    "# Change the data type of `first_date`\n",
    "events['event_dt'] = pd.to_datetime(events['event_dt'], format = '%Y-%m-%d %H:%M:%S')"
   ]
  },
  {
   "cell_type": "code",
   "execution_count": 16,
   "id": "d3a4fb7f",
   "metadata": {},
   "outputs": [
    {
     "data": {
      "text/plain": [
       "user_id            0\n",
       "event_dt           0\n",
       "event_name         0\n",
       "details       363447\n",
       "dtype: int64"
      ]
     },
     "execution_count": 16,
     "metadata": {},
     "output_type": "execute_result"
    }
   ],
   "source": [
    "# Verificar si hay valores ausentes\n",
    "# Check for missing values\n",
    "events.isna().sum()"
   ]
  },
  {
   "cell_type": "code",
   "execution_count": 17,
   "id": "6816a768",
   "metadata": {},
   "outputs": [
    {
     "data": {
      "text/plain": [
       "0"
      ]
     },
     "execution_count": 17,
     "metadata": {},
     "output_type": "execute_result"
    }
   ],
   "source": [
    "# Verificar si hay valores duplicados\n",
    "# Check for duplicated values\n",
    "events.duplicated().sum()"
   ]
  },
  {
   "cell_type": "markdown",
   "id": "5869e3ce",
   "metadata": {},
   "source": [
    "No hay valores duplicados en el dataset `events`. Sin embargo, hay muchos valores ausentes en la columna `details`, esto se debe a que solo los `event_name` = `purchase` tienen datos. / There are no duplicated values in the `events` dataset. However, there are many missing values in the `details` column, as only `event_name` = `purchase` events have data."
   ]
  },
  {
   "cell_type": "markdown",
   "id": "f77483d3",
   "metadata": {},
   "source": [
    "### `Participants`\n",
    "Tabla con los datos de los participantes de la prueba. / Table with the test participants' data."
   ]
  },
  {
   "cell_type": "code",
   "execution_count": 18,
   "id": "98ca5fa4",
   "metadata": {},
   "outputs": [
    {
     "data": {
      "text/html": [
       "<div>\n",
       "<style scoped>\n",
       "    .dataframe tbody tr th:only-of-type {\n",
       "        vertical-align: middle;\n",
       "    }\n",
       "\n",
       "    .dataframe tbody tr th {\n",
       "        vertical-align: top;\n",
       "    }\n",
       "\n",
       "    .dataframe thead th {\n",
       "        text-align: right;\n",
       "    }\n",
       "</style>\n",
       "<table border=\"1\" class=\"dataframe\">\n",
       "  <thead>\n",
       "    <tr style=\"text-align: right;\">\n",
       "      <th></th>\n",
       "      <th>user_id</th>\n",
       "      <th>group</th>\n",
       "      <th>ab_test</th>\n",
       "    </tr>\n",
       "  </thead>\n",
       "  <tbody>\n",
       "    <tr>\n",
       "      <th>0</th>\n",
       "      <td>D1ABA3E2887B6A73</td>\n",
       "      <td>A</td>\n",
       "      <td>recommender_system_test</td>\n",
       "    </tr>\n",
       "    <tr>\n",
       "      <th>1</th>\n",
       "      <td>A7A3664BD6242119</td>\n",
       "      <td>A</td>\n",
       "      <td>recommender_system_test</td>\n",
       "    </tr>\n",
       "    <tr>\n",
       "      <th>2</th>\n",
       "      <td>DABC14FDDFADD29E</td>\n",
       "      <td>A</td>\n",
       "      <td>recommender_system_test</td>\n",
       "    </tr>\n",
       "    <tr>\n",
       "      <th>3</th>\n",
       "      <td>04988C5DF189632E</td>\n",
       "      <td>A</td>\n",
       "      <td>recommender_system_test</td>\n",
       "    </tr>\n",
       "    <tr>\n",
       "      <th>4</th>\n",
       "      <td>4FF2998A348C484F</td>\n",
       "      <td>A</td>\n",
       "      <td>recommender_system_test</td>\n",
       "    </tr>\n",
       "  </tbody>\n",
       "</table>\n",
       "</div>"
      ],
      "text/plain": [
       "            user_id group                  ab_test\n",
       "0  D1ABA3E2887B6A73     A  recommender_system_test\n",
       "1  A7A3664BD6242119     A  recommender_system_test\n",
       "2  DABC14FDDFADD29E     A  recommender_system_test\n",
       "3  04988C5DF189632E     A  recommender_system_test\n",
       "4  4FF2998A348C484F     A  recommender_system_test"
      ]
     },
     "execution_count": 18,
     "metadata": {},
     "output_type": "execute_result"
    }
   ],
   "source": [
    "# Muestra de los datos \n",
    "# Show data\n",
    "participants.head()"
   ]
  },
  {
   "cell_type": "code",
   "execution_count": 19,
   "id": "20b8f162",
   "metadata": {},
   "outputs": [
    {
     "name": "stdout",
     "output_type": "stream",
     "text": [
      "<class 'pandas.core.frame.DataFrame'>\n",
      "RangeIndex: 14525 entries, 0 to 14524\n",
      "Data columns (total 3 columns):\n",
      " #   Column   Non-Null Count  Dtype \n",
      "---  ------   --------------  ----- \n",
      " 0   user_id  14525 non-null  object\n",
      " 1   group    14525 non-null  object\n",
      " 2   ab_test  14525 non-null  object\n",
      "dtypes: object(3)\n",
      "memory usage: 340.6+ KB\n"
     ]
    }
   ],
   "source": [
    "# Información general\n",
    "# General information\n",
    "participants.info()"
   ]
  },
  {
   "cell_type": "code",
   "execution_count": 20,
   "id": "2309a424",
   "metadata": {},
   "outputs": [
    {
     "data": {
      "text/plain": [
       "user_id    0\n",
       "group      0\n",
       "ab_test    0\n",
       "dtype: int64"
      ]
     },
     "execution_count": 20,
     "metadata": {},
     "output_type": "execute_result"
    }
   ],
   "source": [
    "# Verificar si hay valores ausentes\n",
    "# Check for missing values\n",
    "participants.isna().sum()"
   ]
  },
  {
   "cell_type": "code",
   "execution_count": 21,
   "id": "4795a71c",
   "metadata": {},
   "outputs": [
    {
     "data": {
      "text/plain": [
       "0"
      ]
     },
     "execution_count": 21,
     "metadata": {},
     "output_type": "execute_result"
    }
   ],
   "source": [
    "# Verificar si hay valores duplicados\n",
    "# Check for duplicated values\n",
    "participants.duplicated().sum()"
   ]
  },
  {
   "cell_type": "markdown",
   "id": "825f8a75",
   "metadata": {},
   "source": [
    "No hay valores ausentes ni duplicados en el dataset `participants`. / There are no missing or duplicated values in the `participants` dataset."
   ]
  },
  {
   "cell_type": "markdown",
   "id": "562ba89b",
   "metadata": {},
   "source": [
    "## Análisis exploratorio de datos / Exploratory Data Analysis"
   ]
  },
  {
   "cell_type": "markdown",
   "id": "82362144",
   "metadata": {},
   "source": [
    "### Estudiar la conversión en las diferentes etapas del embudo / Study Conversion at Different Funnel Stages"
   ]
  },
  {
   "cell_type": "code",
   "execution_count": 23,
   "id": "64c3b727",
   "metadata": {},
   "outputs": [],
   "source": [
    "# Combinar participantes y eventos\n",
    "# Combine participants and events\n",
    "events_data = events.merge(participants, on = 'user_id')"
   ]
  },
  {
   "cell_type": "code",
   "execution_count": 24,
   "id": "8976bd33",
   "metadata": {},
   "outputs": [
    {
     "data": {
      "text/html": [
       "<div>\n",
       "<style scoped>\n",
       "    .dataframe tbody tr th:only-of-type {\n",
       "        vertical-align: middle;\n",
       "    }\n",
       "\n",
       "    .dataframe tbody tr th {\n",
       "        vertical-align: top;\n",
       "    }\n",
       "\n",
       "    .dataframe thead th {\n",
       "        text-align: right;\n",
       "    }\n",
       "</style>\n",
       "<table border=\"1\" class=\"dataframe\">\n",
       "  <thead>\n",
       "    <tr style=\"text-align: right;\">\n",
       "      <th>group</th>\n",
       "      <th>A</th>\n",
       "      <th>B</th>\n",
       "    </tr>\n",
       "  </thead>\n",
       "  <tbody>\n",
       "    <tr>\n",
       "      <th>product_page</th>\n",
       "      <td>66.141732</td>\n",
       "      <td>64.238517</td>\n",
       "    </tr>\n",
       "    <tr>\n",
       "      <th>product_cart</th>\n",
       "      <td>31.534163</td>\n",
       "      <td>32.828364</td>\n",
       "    </tr>\n",
       "    <tr>\n",
       "      <th>purchase</th>\n",
       "      <td>34.061468</td>\n",
       "      <td>32.360999</td>\n",
       "    </tr>\n",
       "  </tbody>\n",
       "</table>\n",
       "</div>"
      ],
      "text/plain": [
       "group                 A          B\n",
       "product_page  66.141732  64.238517\n",
       "product_cart  31.534163  32.828364\n",
       "purchase      34.061468  32.360999"
      ]
     },
     "execution_count": 24,
     "metadata": {},
     "output_type": "execute_result"
    }
   ],
   "source": [
    "# Definir las etapas del embudo\n",
    "# Define the funnel stages\n",
    "stages = ['product_page', 'product_cart', 'purchase']\n",
    "\n",
    "# Calcular conversiones por grupo y etapa\n",
    "# Calculate conversions by group and stage\n",
    "conversion_rates = {}\n",
    "for stage in stages:\n",
    "    stage_info = events_data[events_data['event_name'] == stage]\n",
    "    stage_users = stage_info.groupby('group')['user_id'].nunique()\n",
    "    total_users = events_data.groupby('group')['user_id'].nunique()\n",
    "    conversion_rates[stage] = (stage_users/total_users)*100\n",
    "    \n",
    "conversion_rates = pd.DataFrame(conversion_rates).T\n",
    "conversion_rates"
   ]
  },
  {
   "cell_type": "markdown",
   "id": "7a679e0d",
   "metadata": {},
   "source": [
    "Solo en el `carrito de compras` la conversión del `grupo B` es mayor y por un porcentaje muy mínimo.  / Only in the `shopping cart` stage is the conversion for `group B` higher, and by a very small percentage."
   ]
  },
  {
   "cell_type": "markdown",
   "id": "651191e2",
   "metadata": {},
   "source": [
    "### ¿El número de eventos por usuario está distribuido equitativamente entre las muestras? / Is the number of events per user evenly distributed between the samples?"
   ]
  },
  {
   "cell_type": "code",
   "execution_count": 25,
   "id": "dd3159cb",
   "metadata": {},
   "outputs": [
    {
     "data": {
      "text/html": [
       "<div>\n",
       "<style scoped>\n",
       "    .dataframe tbody tr th:only-of-type {\n",
       "        vertical-align: middle;\n",
       "    }\n",
       "\n",
       "    .dataframe tbody tr th {\n",
       "        vertical-align: top;\n",
       "    }\n",
       "\n",
       "    .dataframe thead th {\n",
       "        text-align: right;\n",
       "    }\n",
       "</style>\n",
       "<table border=\"1\" class=\"dataframe\">\n",
       "  <thead>\n",
       "    <tr style=\"text-align: right;\">\n",
       "      <th></th>\n",
       "      <th>user_id</th>\n",
       "      <th>group</th>\n",
       "      <th>num_events</th>\n",
       "    </tr>\n",
       "  </thead>\n",
       "  <tbody>\n",
       "    <tr>\n",
       "      <th>0</th>\n",
       "      <td>0002CE61FF2C4011</td>\n",
       "      <td>A</td>\n",
       "      <td>12</td>\n",
       "    </tr>\n",
       "    <tr>\n",
       "      <th>1</th>\n",
       "      <td>001064FEAAB631A1</td>\n",
       "      <td>B</td>\n",
       "      <td>12</td>\n",
       "    </tr>\n",
       "    <tr>\n",
       "      <th>2</th>\n",
       "      <td>0010A1C096941592</td>\n",
       "      <td>A</td>\n",
       "      <td>12</td>\n",
       "    </tr>\n",
       "    <tr>\n",
       "      <th>3</th>\n",
       "      <td>001E72F50D1C48FA</td>\n",
       "      <td>B</td>\n",
       "      <td>6</td>\n",
       "    </tr>\n",
       "    <tr>\n",
       "      <th>4</th>\n",
       "      <td>002412F1EB3F6E38</td>\n",
       "      <td>A</td>\n",
       "      <td>6</td>\n",
       "    </tr>\n",
       "    <tr>\n",
       "      <th>...</th>\n",
       "      <td>...</td>\n",
       "      <td>...</td>\n",
       "      <td>...</td>\n",
       "    </tr>\n",
       "    <tr>\n",
       "      <th>14074</th>\n",
       "      <td>FFE7FC140521F5F6</td>\n",
       "      <td>B</td>\n",
       "      <td>16</td>\n",
       "    </tr>\n",
       "    <tr>\n",
       "      <th>14075</th>\n",
       "      <td>FFEFC0E55C1CCD4F</td>\n",
       "      <td>B</td>\n",
       "      <td>4</td>\n",
       "    </tr>\n",
       "    <tr>\n",
       "      <th>14076</th>\n",
       "      <td>FFF28D02B1EACBE1</td>\n",
       "      <td>A</td>\n",
       "      <td>9</td>\n",
       "    </tr>\n",
       "    <tr>\n",
       "      <th>14077</th>\n",
       "      <td>FFF28D02B1EACBE1</td>\n",
       "      <td>B</td>\n",
       "      <td>9</td>\n",
       "    </tr>\n",
       "    <tr>\n",
       "      <th>14078</th>\n",
       "      <td>FFF58BC33966EB51</td>\n",
       "      <td>B</td>\n",
       "      <td>3</td>\n",
       "    </tr>\n",
       "  </tbody>\n",
       "</table>\n",
       "<p>14079 rows × 3 columns</p>\n",
       "</div>"
      ],
      "text/plain": [
       "                user_id group  num_events\n",
       "0      0002CE61FF2C4011     A          12\n",
       "1      001064FEAAB631A1     B          12\n",
       "2      0010A1C096941592     A          12\n",
       "3      001E72F50D1C48FA     B           6\n",
       "4      002412F1EB3F6E38     A           6\n",
       "...                 ...   ...         ...\n",
       "14074  FFE7FC140521F5F6     B          16\n",
       "14075  FFEFC0E55C1CCD4F     B           4\n",
       "14076  FFF28D02B1EACBE1     A           9\n",
       "14077  FFF28D02B1EACBE1     B           9\n",
       "14078  FFF58BC33966EB51     B           3\n",
       "\n",
       "[14079 rows x 3 columns]"
      ]
     },
     "execution_count": 25,
     "metadata": {},
     "output_type": "execute_result"
    }
   ],
   "source": [
    "# Calcular el número de eventos por usuario en cada grupo\n",
    "# Calculate the number of events per user in each group\n",
    "users_event = events_data.groupby(['user_id', 'group'])['event_name'].count().reset_index()\n",
    "users_event.columns = ['user_id', 'group', 'num_events']\n",
    "users_event"
   ]
  },
  {
   "cell_type": "code",
   "execution_count": 26,
   "id": "257ad8e7",
   "metadata": {},
   "outputs": [
    {
     "data": {
      "image/png": "[encoded data removed]",
      "text/plain": [
       "<Figure size 640x480 with 1 Axes>"
      ]
     },
     "metadata": {},
     "output_type": "display_data"
    }
   ],
   "source": [
    "# Separar por grupo\n",
    "# Separate by group\n",
    "group_A = users_event[users_event['group'] == 'A']['num_events']\n",
    "group_B = users_event[users_event['group'] == 'B']['num_events']\n",
    "\n",
    "# Visualizar la distribución\n",
    "# Visualize the distribution\n",
    "plt.hist(group_A, alpha=0.5, label='Grupo A')\n",
    "plt.hist(group_B, alpha=0.5, label='Grupo B')\n",
    "plt.title('Distribución del número de eventos por usuario')\n",
    "plt.xlabel('Número eventos')\n",
    "plt.ylabel('Frecuencia')\n",
    "plt.legend()\n",
    "plt.show()"
   ]
  },
  {
   "cell_type": "markdown",
   "id": "79337173",
   "metadata": {},
   "source": [
    "Ambos grupos parecen tener un comportamiento bastante similar en términos del número de eventos realizados por usuario, especialmente en los rangos bajos. Para confirmar esto, se va a realizar la prueba estadística Mann-Whitney. / Both groups appear to have very similar behavior in terms of the number of events per user, especially in the lower ranges. To confirm this, the Mann-Whitney statistical test will be performed."
   ]
  },
  {
   "cell_type": "code",
   "execution_count": 28,
   "id": "4b1abe74",
   "metadata": {},
   "outputs": [
    {
     "name": "stdout",
     "output_type": "stream",
     "text": [
      "Valor p: 1.4211342403215935e-05\n",
      "Existen diferencias significativas entre las distribuciones de los dos grupos comparados / There are significant differences between the distributions of the two groups compared.\n"
     ]
    }
   ],
   "source": [
    "# Prueba Mann-Whitney\n",
    "# Mann-Whitney Test\n",
    "alpha = 0.05\n",
    "\n",
    "stat, p_value = st.mannwhitneyu(group_A, group_B)\n",
    "\n",
    "print('Valor p:', p_value)\n",
    "\n",
    "if p_value < alpha:\n",
    "    print(\"Existen diferencias significativas entre las distribuciones de los dos grupos comparados / There are significant differences between the distributions of the two groups compared.\")\n",
    "else:\n",
    "    print(\"No se pueden sacar conclusiones sobre la diferencia / No conclusions can be drawn about the difference.\")"
   ]
  },
  {
   "cell_type": "markdown",
   "id": "3d587c6f",
   "metadata": {},
   "source": [
    "Se puede decir que el número de eventos por usuario está distribuido equitativamente entre las muestras. / It can be said that the number of events per user is evenly distributed between the samples."
   ]
  },
  {
   "cell_type": "markdown",
   "id": "1318576d",
   "metadata": {},
   "source": [
    "### ¿Hay usuarios que están presentes en ambas muestras? / Are there users present in both samples?"
   ]
  },
  {
   "cell_type": "code",
   "execution_count": 29,
   "id": "82c15680",
   "metadata": {},
   "outputs": [
    {
     "name": "stdout",
     "output_type": "stream",
     "text": [
      "Número de usuarios presentes en ambas muestras / Number of users present in both samples: 441\n"
     ]
    }
   ],
   "source": [
    "# Filtrar usuarios en ambos grupos\n",
    "# Filter users in both groups\n",
    "users_group_A = set(users_event[users_event['group'] == 'A']['user_id'])\n",
    "users_group_B = set(users_event[users_event['group'] == 'B']['user_id'])\n",
    "\n",
    "# Encontrar usuarios comunes en ambos grupos\n",
    "# Find common users in both groups\n",
    "common_users = users_group_A.intersection(users_group_B)\n",
    "print(f'Número de usuarios presentes en ambas muestras / Number of users present in both samples: {len(common_users)}')"
   ]
  },
  {
   "cell_type": "markdown",
   "id": "2d607888",
   "metadata": {},
   "source": [
    "Hay 441 usuarios en común en los grupos A y B. / There are 441 users in common between groups A and B."
   ]
  },
  {
   "cell_type": "markdown",
   "id": "cf5289fd",
   "metadata": {},
   "source": [
    "### ¿Cómo se distribuye el número de eventos entre los días? / How is the number of events distributed across the days?"
   ]
  },
  {
   "cell_type": "code",
   "execution_count": 30,
   "id": "3947763c",
   "metadata": {},
   "outputs": [],
   "source": [
    "# Extraer solo el día de la fecha del evento\n",
    "# Extract only the day from the event date\n",
    "events_data['event_date'] = events_data['event_dt'].dt.date\n",
    "\n",
    "# Contar lo eventos por día\n",
    "# Count events by day\n",
    "events_per_day = events_data.groupby('event_date')['event_name'].count()"
   ]
  },
  {
   "cell_type": "code",
   "execution_count": 31,
   "id": "09856a90",
   "metadata": {},
   "outputs": [
    {
     "data": {
      "image/png": "[encoded data removed]",
      "text/plain": [
       "<Figure size 640x480 with 1 Axes>"
      ]
     },
     "metadata": {},
     "output_type": "display_data"
    }
   ],
   "source": [
    "# Graficar la distribución\n",
    "# Plot the distribution of events by day\n",
    "events_per_day.plot(kind = 'bar')\n",
    "plt.title('Distribución de eventos por día')\n",
    "plt.xlabel('Fecha')\n",
    "plt.ylabel('Número de eventos')\n",
    "plt.show()"
   ]
  },
  {
   "cell_type": "markdown",
   "id": "d59c073a",
   "metadata": {},
   "source": [
    "Los primeros días de diciembre comienza siento uno distribución uniforme, pero a medida que se acerca la fecha de las festividades incrementa la actividad y después del 24 de diciembre disminuye y a una distribución similar a la de los primeros días. / The first days of December show a nearly uniform distribution, but as the holiday season approaches, activity increases. After December 24th, the activity decreases and returns to a distribution similar to the early days of the month."
   ]
  },
  {
   "cell_type": "markdown",
   "id": "578bf5c8",
   "metadata": {},
   "source": [
    "### ¿Hay alguna peculiaridad en los datos que hay que tener en cuenta antes de iniciar la prueba A/B? / Are there any peculiarities in the data that need to be considered before starting the A/B test?"
   ]
  },
  {
   "cell_type": "code",
   "execution_count": 32,
   "id": "dd0d3fed",
   "metadata": {},
   "outputs": [
    {
     "name": "stdout",
     "output_type": "stream",
     "text": [
      "A    8214\n",
      "B    6311\n",
      "Name: group, dtype: int64\n"
     ]
    }
   ],
   "source": [
    "# Validar la asignación de grupos\n",
    "# Validate group assignment\n",
    "print(participants['group'].value_counts())"
   ]
  },
  {
   "cell_type": "markdown",
   "id": "21ddb6aa",
   "metadata": {},
   "source": [
    "Hay muchos más usuarios en el grupo A que en el grupo B, por estos los usuarios en común se van a dejar solo en el grupo B para intentar equilibrar un poco más la distribución. / There are many more users in group A than in group B, so the common users will only be kept in group B to try to balance the distribution a bit more."
   ]
  },
  {
   "cell_type": "code",
   "execution_count": 33,
   "id": "c9c8d9b4",
   "metadata": {},
   "outputs": [],
   "source": [
    "# Asignar usuarios duplicados al grupo B\n",
    "# Assign duplicate users to group B\n",
    "events_data.loc[events_data['user_id'].isin(common_users), 'group'] = 'B'"
   ]
  },
  {
   "cell_type": "markdown",
   "id": "45feef25",
   "metadata": {},
   "source": [
    "Peculiaridades de los datos a tener en cuenta antes de empezar la prueba A/B / Peculiarities in the data to consider before starting the A/B test:\n",
    "- Distribución en la asignación de grupos / Distribution in group assignment"
   ]
  },
  {
   "cell_type": "markdown",
   "id": "ad027538",
   "metadata": {},
   "source": [
    "## Evaluar los resultados de la prueba A/B / Evaluate A/B Test Results"
   ]
  },
  {
   "cell_type": "markdown",
   "id": "6ce31c09",
   "metadata": {},
   "source": [
    "### ¿Qué se puedes decir sobre los resultados de la prueba A/B? / What can be said about the results of the A/B test?"
   ]
  },
  {
   "cell_type": "markdown",
   "id": "0e935f77",
   "metadata": {},
   "source": [
    "- Hay días, como el 21 de diciembre que puede generar valores atipicos ya que la actividad por eventos es mucho mayor. Esto puede ser porrque es una epoca cerca a navidad. / There are days, like December 21st, that may generate outlier values as event activity is much higher. This could be because it is close to the Christmas season.\n",
    "\n",
    "- La catidad de participantes en los grupos debería ser la misma o muy cercana, pero no es el caso. / The number of participants in the groups should be the same or very close, but this is not the case.\n",
    "\n",
    "- A parte de que los participantes no están distribuidos equitativamente, hay más de 400 usuarios que hacen parte de ambas muestras. / In addition to the participants not being evenly distributed, there are over 400 users who are part of both samples.\n",
    "\n",
    "- Revisando la conversión, el grupo B no tiene mejores resultados que el grupo A. / Reviewing the conversion, group B does not show better results than group A."
   ]
  },
  {
   "cell_type": "markdown",
   "id": "d6258700",
   "metadata": {},
   "source": [
    "### Utilizar una prueba z para comprobar la diferencia estadística entre las proporciones / Use a z-test to check the statistical difference between proportions"
   ]
  },
  {
   "cell_type": "code",
   "execution_count": 34,
   "id": "121f5f85",
   "metadata": {},
   "outputs": [
    {
     "name": "stdout",
     "output_type": "stream",
     "text": [
      "Total usuarios en grupo A / Total users in group A: 7433\n",
      "Total usuarios en grupo B / Total users in group B: 6205\n"
     ]
    }
   ],
   "source": [
    "# Nivel de significancia\n",
    "# Significance level\n",
    "alpha = 0.5\n",
    "\n",
    "# Contar conversiones para el grupo A (evento \"purchase\")\n",
    "# Count conversions for group A (event \"purchase\")\n",
    "conversion_A = events_data[(events_data['event_name'] == 'purchase') & (events_data['group'] == 'A')]['user_id'].nunique()\n",
    "\n",
    "# Contar conversiones para el grupo B (evento \"purchase\")\n",
    "# Count conversions for group B (event \"purchase\")\n",
    "conversion_B = events_data[(events_data['event_name'] == 'purchase') & (events_data['group'] == 'B')]['user_id'].nunique()\n",
    "\n",
    "# Contar total de usuarios en el grupo A\n",
    "# Count total users in group A\n",
    "total_A = events_data[events_data['group'] == 'A']['user_id'].nunique()\n",
    "\n",
    "# Contar total de usuarios en el grupo B\n",
    "# Count total users in group B\n",
    "total_B = events_data[events_data['group'] == 'B']['user_id'].nunique()     \n",
    "\n",
    "print(\"Total usuarios en grupo A / Total users in group A:\", total_A)\n",
    "print(\"Total usuarios en grupo B / Total users in group B:\", total_B)"
   ]
  },
  {
   "cell_type": "code",
   "execution_count": 35,
   "id": "b14ac217",
   "metadata": {},
   "outputs": [
    {
     "name": "stdout",
     "output_type": "stream",
     "text": [
      "Tasa de conversión para el grupo A / Conversion rate for group A: 34.373738732678596\n",
      "Tasa de conversión para el grupo B / Conversion rate for group B: 32.36099919419823\n"
     ]
    }
   ],
   "source": [
    "# Calcular la tasa de conversión para el grupo A\n",
    "# Calculate the conversion rate for group A\n",
    "conversion_rate_A = (conversion_A/total_A) * 100\n",
    "\n",
    "# Calcular la tasa de conversión para el grupo B\n",
    "# Calculate the conversion rate for group B\n",
    "conversion_rate_B = (conversion_B/total_B) * 100\n",
    "\n",
    "print(f'Tasa de conversión para el grupo A / Conversion rate for group A: {conversion_rate_A}')\n",
    "print(f'Tasa de conversión para el grupo B / Conversion rate for group B: {conversion_rate_B}')"
   ]
  },
  {
   "cell_type": "code",
   "execution_count": 36,
   "id": "af50d04c",
   "metadata": {},
   "outputs": [
    {
     "name": "stdout",
     "output_type": "stream",
     "text": [
      "p-value: 0.0\n",
      "Hay una diferencia significativa entre las proporciones / There is a significant difference between the proportions.\n"
     ]
    }
   ],
   "source": [
    "# Proporción combinada\n",
    "# Proporción combinada\n",
    "conversion_combined = (conversion_A + conversion_B) / (total_A + total_B)\n",
    "\n",
    "# Diferencia entre las proporciones\n",
    "# Difference between proportions\n",
    "difference = conversion_rate_A - conversion_rate_B\n",
    "\n",
    "# Estadístico Z\n",
    "# Z statistic\n",
    "z_value = difference / mth.sqrt(conversion_combined * (1 - conversion_combined) * (1 / total_A + 1 / total_B))\n",
    "\n",
    "# Establecer la distribución normal estándar (media 0, desviación estándar 1)\n",
    "# Set the standard normal distribution (mean 0, standard deviation 1)\n",
    "distr = st.norm(0,1)\n",
    "\n",
    "# Valor p de la prueba Z \n",
    "# p-value of the Z test\n",
    "p_value = (1 - distr.cdf(abs(z_value))) * 2 \n",
    "\n",
    "print('p-value:', p_value)\n",
    "\n",
    "if (p_value < alpha):\n",
    "    print('Hay una diferencia significativa entre las proporciones / There is a significant difference between the proportions.')\n",
    "    \n",
    "else:\n",
    "    print('No hay razón para pensar que las proporciones son diferentes / There is no reason to believe that the proportions are different.')"
   ]
  },
  {
   "cell_type": "markdown",
   "id": "e6c90b14",
   "metadata": {},
   "source": [
    "## Conclusiones y resultados / Conclusions and Results"
   ]
  },
  {
   "cell_type": "markdown",
   "id": "ae67ca43",
   "metadata": {},
   "source": [
    "Podrian generar sesgos / Potential biases could include:\n",
    "- Las compras en el mes de diciembre, especialmete los dís cerca a las fiestas / Purchases in December, especially the days near the holidays.\n",
    "- No tener la misma cantidad de participantes en ambas muestras / Unequal number of participants in both samples.\n",
    "- Tener usuarios que hacen parte de ambos grupos / Having users that are part of both groups.\n",
    "- En la mayoría de etapas, el grupo A tiene mejor conversión que el grupo B / In most stages, group A has better conversion than group B.\n",
    "\n",
    "Puede ser necesario realizar ajustes en el sistema antes de continuar con la implementación / It may be necessary to make adjustments to the system before proceeding with the implementation."
   ]
  },
  {
   "cell_type": "code",
   "execution_count": null,
   "id": "e159433c",
   "metadata": {},
   "outputs": [],
   "source": []
  }
 ],
 "metadata": {
  "ExecuteTimeLog": [
   {
    "duration": 2441,
    "start_time": "2024-11-28T17:46:21.146Z"
   },
   {
    "duration": 419,
    "start_time": "2024-11-28T17:46:34.099Z"
   },
   {
    "duration": 9,
    "start_time": "2024-11-28T17:46:52.132Z"
   },
   {
    "duration": 9,
    "start_time": "2024-11-28T17:47:32.590Z"
   },
   {
    "duration": 4,
    "start_time": "2024-11-28T17:49:20.800Z"
   },
   {
    "duration": 5,
    "start_time": "2024-11-28T18:00:22.267Z"
   },
   {
    "duration": 5,
    "start_time": "2024-11-28T18:01:22.343Z"
   },
   {
    "duration": 6,
    "start_time": "2024-11-28T18:02:55.413Z"
   },
   {
    "duration": 14,
    "start_time": "2024-11-28T18:03:15.511Z"
   },
   {
    "duration": 9,
    "start_time": "2024-11-28T18:03:37.322Z"
   },
   {
    "duration": 10,
    "start_time": "2024-11-28T18:04:00.590Z"
   },
   {
    "duration": 21,
    "start_time": "2024-11-28T18:04:18.352Z"
   },
   {
    "duration": 7,
    "start_time": "2024-11-28T18:05:18.782Z"
   },
   {
    "duration": 43,
    "start_time": "2024-11-28T18:06:24.615Z"
   },
   {
    "duration": 60,
    "start_time": "2024-11-28T18:07:15.613Z"
   },
   {
    "duration": 31,
    "start_time": "2024-11-28T18:07:35.398Z"
   },
   {
    "duration": 116,
    "start_time": "2024-11-28T18:08:31.938Z"
   },
   {
    "duration": 7,
    "start_time": "2024-11-28T18:11:59.085Z"
   },
   {
    "duration": 9,
    "start_time": "2024-11-28T18:12:16.856Z"
   },
   {
    "duration": 6,
    "start_time": "2024-11-28T18:12:51.879Z"
   },
   {
    "duration": 9,
    "start_time": "2024-11-28T18:13:21.243Z"
   },
   {
    "duration": 3,
    "start_time": "2024-11-28T18:14:50.506Z"
   },
   {
    "duration": 69,
    "start_time": "2024-11-28T18:16:44.615Z"
   },
   {
    "duration": 88,
    "start_time": "2024-11-28T18:17:33.295Z"
   },
   {
    "duration": 38,
    "start_time": "2024-11-28T18:19:24.378Z"
   },
   {
    "duration": 150,
    "start_time": "2024-11-28T18:20:05.349Z"
   },
   {
    "duration": 8,
    "start_time": "2024-11-28T18:21:47.903Z"
   },
   {
    "duration": 11,
    "start_time": "2024-11-28T18:21:56.939Z"
   },
   {
    "duration": 8,
    "start_time": "2024-11-28T18:24:12.994Z"
   },
   {
    "duration": 29,
    "start_time": "2024-11-28T18:26:06.160Z"
   },
   {
    "duration": 190,
    "start_time": "2024-11-28T18:26:55.958Z"
   },
   {
    "duration": 5,
    "start_time": "2024-11-28T18:28:57.882Z"
   },
   {
    "duration": 9,
    "start_time": "2024-11-28T18:30:18.036Z"
   },
   {
    "duration": 61,
    "start_time": "2024-11-28T18:37:25.634Z"
   },
   {
    "duration": 4,
    "start_time": "2024-11-28T18:38:46.771Z"
   },
   {
    "duration": 5,
    "start_time": "2024-11-28T18:41:18.392Z"
   },
   {
    "duration": 3,
    "start_time": "2024-11-28T18:41:48.768Z"
   }
  ],
  "kernelspec": {
   "display_name": "Python 3 (ipykernel)",
   "language": "python",
   "name": "python3"
  },
  "language_info": {
   "codemirror_mode": {
    "name": "ipython",
    "version": 3
   },
   "file_extension": ".py",
   "mimetype": "text/x-python",
   "name": "python",
   "nbconvert_exporter": "python",
   "pygments_lexer": "ipython3",
   "version": "3.9.19"
  },
  "toc": {
   "base_numbering": 1,
   "nav_menu": {},
   "number_sections": true,
   "sideBar": true,
   "skip_h1_title": true,
   "title_cell": "Table of Contents",
   "title_sidebar": "Contents",
   "toc_cell": false,
   "toc_position": {},
   "toc_section_display": true,
   "toc_window_display": false
  }
 },
 "nbformat": 4,
 "nbformat_minor": 5
}
